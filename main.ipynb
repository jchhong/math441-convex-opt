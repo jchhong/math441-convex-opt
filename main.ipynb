{
 "cells": [
  {
   "cell_type": "markdown",
   "metadata": {},
   "source": [
    "# Portfolio Optimization"
   ]
  },
  {
   "cell_type": "code",
   "execution_count": 3,
   "metadata": {},
   "outputs": [],
   "source": [
    "import numpy as np\n",
    "import matplotlib.pyplot as plt\n",
    "import yfinance as yf\n",
    "import pandas as pd\n",
    "import cvxpy as cp"
   ]
  },
  {
   "cell_type": "markdown",
   "metadata": {},
   "source": [
    "## Class definition"
   ]
  },
  {
   "cell_type": "code",
   "execution_count": 4,
   "metadata": {},
   "outputs": [],
   "source": [
    "class Portfolio:\n",
    "    def __init__(self, assets, period=\"10y\", q=0.1):\n",
    "        \"\"\"\n",
    "        Initialize the Portfolio class with assets and settings.\n",
    "        Args:\n",
    "            assets (list): List of asset tickers.\n",
    "            period (str): Historical data period (default is \"10y\").\n",
    "            q (float): Risk aversion parameter (default is 0.1).\n",
    "        \"\"\"\n",
    "        self.assets = assets\n",
    "        self.period = period\n",
    "        self.q = q\n",
    "        self.n = len(assets)\n",
    "        self.sigma = None\n",
    "        self.r = None\n",
    "        self._calculate_statistics()\n",
    "\n",
    "    def _calculate_statistics(self):\n",
    "        \"\"\"\n",
    "        Calculate the covariance matrix (sigma) and expected returns (r).\n",
    "        \"\"\"\n",
    "        R = []\n",
    "        for stock in self.assets:\n",
    "            data = yf.Ticker(stock)\n",
    "            df = data.history(period=self.period)\n",
    "            close = df['Close'].values\n",
    "            returns = np.diff(close) / close[:-1]\n",
    "            R.append(returns)\n",
    "\n",
    "        R = np.array(R).T\n",
    "        self.r = np.mean(R, axis=0)\n",
    "        self.sigma = np.cov(R.T)\n",
    "\n",
    "    def calculate_optimal_x(self):\n",
    "        \"\"\"\n",
    "        Calculate the optimal portfolio weights (x).\n",
    "        Returns:\n",
    "            np.array: Optimized portfolio weights.\n",
    "        \"\"\"\n",
    "        n = len(self.assets)\n",
    "        e = np.ones(n)\n",
    "        X = cp.Variable(n)\n",
    "        obj = cp.Minimize(self.q * cp.quad_form(X, self.sigma) -  self.r @ X)\n",
    "        constraints = [e @ X == 1, X >= 0]\n",
    "        problem = cp.Problem(obj, constraints)\n",
    "        result = problem.solve()\n",
    "        return X.value\n",
    "    \n",
    "    def calculate_optimal_with_transaction_costs(self, x_init, f_buy, f_sell):\n",
    "        \"\"\"\n",
    "        Calculate the optimal portfolio weights with transaction costs.\n",
    "        Args:\n",
    "            x_init (np.array): Initial portfolio weights.\n",
    "            f_buy (float): Buying transaction cost.\n",
    "            f_sell (float): Selling transaction cost.\n",
    "        Returns:\n",
    "            tuple: Optimized portfolio weights, buy adjustments, sell adjustments.\n",
    "        \"\"\"\n",
    "        e = np.ones(self.n)\n",
    "        u_buy = cp.Variable(self.n)\n",
    "        u_sell = cp.Variable(self.n)\n",
    "        x = x_init + u_buy - u_sell\n",
    "\n",
    "        objective = cp.Minimize(self.q * cp.quad_form(x, self.sigma) - self.r @ x)\n",
    "        constraints = [\n",
    "            x == x_init + u_buy - u_sell,\n",
    "            x >= 0,\n",
    "            u_buy >= 0,\n",
    "            u_sell >= 0,\n",
    "            (1 - f_sell) * e @ u_sell == (1 + f_buy) * e @ u_buy,\n",
    "            e @ x == 1\n",
    "        ]\n",
    "\n",
    "        problem = cp.Problem(objective, constraints)\n",
    "        result = problem.solve()\n",
    "\n",
    "        return x.value, u_buy.value, u_sell.value\n"
   ]
  },
  {
   "cell_type": "markdown",
   "metadata": {},
   "source": [
    "## Model with Transaction Costs"
   ]
  },
  {
   "cell_type": "markdown",
   "metadata": {},
   "source": [
    "\\begin{align}\n",
    "    \\min_{\\mathbf{x}, \\mathbf{u}_{\\text{buy}}, \\mathbf{u}_{\\text{sell}}} & \\quad q\\cdot \\mathbf{x}^T \\Sigma \\mathbf{x} + \\mathbf{r}^T \\mathbf{x}\\\\\n",
    "    \\text{subject to:} & \\\\\n",
    "    & \\mathbf{x} = \\mathbf{x}_{\\text{init}} + \\mathbf{u}_{\\text{buy}} - \\mathbf{u}_{\\text{sell}} \\\\\n",
    "    & \\mathbf{u}_{\\text{buy}} \\ge 0, \\quad \\mathbf{u}_{\\text{sell}} \\ge 0 \\\\\n",
    "    & (1 - f_{\\text{sell}}) \\mathbf{1}^T \\mathbf{u}_{\\text{sell}} = (1 + f_{\\text{buy}}) \\mathbf{1}^T \\mathbf{u}_{\\text{buy}} \\\\\n",
    "    & \\mathbf{1}^T \\mathbf{x} = 1\n",
    "\\end{align}"
   ]
  },
  {
   "cell_type": "markdown",
   "metadata": {},
   "source": [
    "Methods already written before."
   ]
  },
  {
   "cell_type": "markdown",
   "metadata": {},
   "source": [
    "### Analysis"
   ]
  },
  {
   "cell_type": "code",
   "execution_count": 7,
   "metadata": {},
   "outputs": [
    {
     "name": "stdout",
     "output_type": "stream",
     "text": [
      "Optimal x with no transaction costs: [ 3.97508629e-02  1.30858245e-01  8.78184873e-03  1.48597298e-02\n",
      "  2.89185903e-01  2.49739586e-01  1.54388290e-01  1.12435534e-01\n",
      " -2.65563953e-23  3.23498724e-23]\n",
      "Initial x: [0.1 0.1 0.1 0.1 0.1 0.1 0.1 0.1 0.1 0.1]\n",
      "Optimal x with transaction costs: [0.09999931 0.1        0.1        0.1        0.10000068 0.1\n",
      " 0.1        0.1        0.1        0.1       ]\n",
      "\n"
     ]
    }
   ],
   "source": [
    "assets = [\"TSLA\", \"NVDA\", \"AAPL\", \"JPM\", \"JNJ\", \"KO\", \"DUK\", \"T\", \"GE\", \"PFE\"]  \n",
    "portfolio = Portfolio(assets,\"10y\",10)\n",
    "opt_x = portfolio.calculate_optimal_x()\n",
    "x_init = np.full(10, 0.1)\n",
    "opt_x_trans, *_ = portfolio.calculate_optimal_with_transaction_costs(x_init,0.01,0.01)\n",
    "print(f\"Optimal x with no transaction costs: {opt_x}\\n\"\n",
    "      f\"Initial x: {x_init}\\n\"\n",
    "      f\"Optimal x with transaction costs: {opt_x_trans}\\n\")"
   ]
  },
  {
   "cell_type": "markdown",
   "metadata": {},
   "source": [
    "## Model allowing short positions"
   ]
  },
  {
   "cell_type": "markdown",
   "metadata": {},
   "source": [
    "\\begin{align*}\n",
    "    \\text{Minimize} \\quad & q\\cdot \\mathbf{x}^T \\Sigma \\mathbf{x} + \\mathbf{r}^T\\mathbf{x} \\\\\n",
    "    \\text{subject to} \\quad \\\\\n",
    "    & \\mathbf{x} = \\mathbf{x}_{\\text{long}} - \\mathbf{x}_{\\text{short}}, \\\\\n",
    "    & \\mathbf{x}_{\\text{long}} \\succeq 0, \\quad \\mathbf{x}_{\\text{short}} \\succeq 0, \\\\\n",
    "    & \\mathbf{1}^T \\mathbf{x}_{\\text{short}} \\leq \\eta \\mathbf{1}^T \\mathbf{x}_{\\text{long}}, \\\\\n",
    "    & \\mathbf{1}^T \\mathbf{x} = 1\n",
    "\\end{align*}"
   ]
  },
  {
   "cell_type": "code",
   "execution_count": 8,
   "metadata": {},
   "outputs": [],
   "source": [
    "class PortfolioWithShort(Portfolio):\n",
    "    def calculate_optimal_with_short(self, eta=0.5):\n",
    "        \"\"\"\n",
    "        Calculate the optimal portfolio weights allowing short positions.\n",
    "        Args:\n",
    "            eta (float): Maximum ratio of short positions to long positions (default is 0.5).\n",
    "        Returns:\n",
    "            tuple: Optimized portfolio weights, long positions, short positions.\n",
    "        \"\"\"\n",
    "        x_long = cp.Variable(self.n)\n",
    "        x_short = cp.Variable(self.n)\n",
    "        x = x_long - x_short\n",
    "\n",
    "        objective = cp.Minimize(self.q * cp.quad_form(x, self.sigma) - self.r @ x)\n",
    "        constraints = [\n",
    "            x_long >= 0,\n",
    "            x_short >= 0,\n",
    "            cp.sum(x_short) <= eta * cp.sum(x_long),\n",
    "            cp.sum(x) == 1\n",
    "        ]\n",
    "\n",
    "        problem = cp.Problem(objective, constraints)\n",
    "        result = problem.solve()\n",
    "\n",
    "        return x.value, x_long.value, x_short.value"
   ]
  },
  {
   "cell_type": "code",
   "execution_count": 9,
   "metadata": {},
   "outputs": [
    {
     "name": "stdout",
     "output_type": "stream",
     "text": [
      "Optimal x with no transaction costs: [ 3.97508629e-02  1.30858245e-01  8.78184873e-03  1.48597298e-02\n",
      "  2.89185903e-01  2.49739586e-01  1.54388290e-01  1.12435534e-01\n",
      " -2.65563953e-23  3.23498724e-23]\n",
      "Optimal x: [ 0.04100298  0.1350774   0.01172797  0.04240519  0.29340654  0.25915556\n",
      "  0.15828841  0.12226905 -0.04995465 -0.01337843]\n",
      "Optimal x long position: [0.07077539 0.18731385 0.05810994 0.06193282 0.39712931 0.35509729\n",
      " 0.18317983 0.13513216 0.02984375 0.03733765]\n",
      "Optimal x short position: [0.02977241 0.05223646 0.04638198 0.01952764 0.10372277 0.09594173\n",
      " 0.02489142 0.01286311 0.0797984  0.05071608]\n",
      "\n"
     ]
    }
   ],
   "source": [
    "assets = [\"TSLA\", \"NVDA\", \"AAPL\", \"JPM\", \"JNJ\", \"KO\", \"DUK\", \"T\", \"GE\", \"PFE\"]  \n",
    "port_short = PortfolioWithShort(assets,\"10y\",10)\n",
    "opt_x = portfolio.calculate_optimal_x()\n",
    "opt_x_combined, opt_x_long, opt_x_short = port_short.calculate_optimal_with_short(0.5)\n",
    "print(f\"Optimal x with no transaction costs: {opt_x}\\n\"\n",
    "      f\"Optimal x: {opt_x_combined}\\n\"\n",
    "      f\"Optimal x long position: {opt_x_long}\\n\"\n",
    "      f\"Optimal x short position: {opt_x_short}\\n\")"
   ]
  },
  {
   "cell_type": "code",
   "execution_count": null,
   "metadata": {},
   "outputs": [],
   "source": []
  }
 ],
 "metadata": {
  "kernelspec": {
   "display_name": "Python 3 (ipykernel)",
   "language": "python",
   "name": "python3"
  },
  "language_info": {
   "codemirror_mode": {
    "name": "ipython",
    "version": 3
   },
   "file_extension": ".py",
   "mimetype": "text/x-python",
   "name": "python",
   "nbconvert_exporter": "python",
   "pygments_lexer": "ipython3",
   "version": "3.12.8"
  }
 },
 "nbformat": 4,
 "nbformat_minor": 4
}
