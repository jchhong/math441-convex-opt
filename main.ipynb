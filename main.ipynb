{
 "cells": [
  {
   "cell_type": "markdown",
   "metadata": {},
   "source": [
    "# Portfolio Optimization"
   ]
  },
  {
   "cell_type": "code",
   "execution_count": 50,
   "metadata": {},
   "outputs": [],
   "source": [
    "import numpy as np\n",
    "import matplotlib.pyplot as plt\n",
    "import yfinance as yf\n",
    "import pandas as pd\n",
    "import cvxpy as cp"
   ]
  },
  {
   "cell_type": "markdown",
   "metadata": {},
   "source": [
    "## Class definition"
   ]
  },
  {
   "cell_type": "code",
   "execution_count": 51,
   "metadata": {},
   "outputs": [],
   "source": [
    "class Portfolio:\n",
    "    def __init__(self, assets, period=\"10y\", q=0.1):\n",
    "        \"\"\"\n",
    "        Initialize the Portfolio class with assets and settings.\n",
    "        Args:\n",
    "            assets (list): List of asset tickers.\n",
    "            period (str): Historical data period (default is \"10y\").\n",
    "            q (float): Risk aversion parameter (default is 0.1).\n",
    "        \"\"\"\n",
    "        self.assets = assets\n",
    "        self.period = period\n",
    "        self.q = q\n",
    "        self.n = len(assets)\n",
    "        self.sigma = None\n",
    "        self.r = None\n",
    "        self._calculate_statistics()\n",
    "\n",
    "    def _calculate_statistics(self):\n",
    "        \"\"\"\n",
    "        Calculate the covariance matrix (sigma) and expected returns (r).\n",
    "        \"\"\"\n",
    "        R = []\n",
    "        for stock in self.assets:\n",
    "            data = yf.Ticker(stock)\n",
    "            df = data.history(period=self.period)\n",
    "            close = df['Close'].values\n",
    "            returns = np.diff(close) / close[:-1]\n",
    "            R.append(returns)\n",
    "\n",
    "        R_array = np.array(R).T\n",
    "        R = np.array(R).T\n",
    " \n",
    "        self.returns = R_array\n",
    "        self.r = np.mean(R, axis=0)\n",
    "        self.sigma = np.cov(R.T)\n",
    "\n",
    "    def calculate_optimal_x(self):\n",
    "        \"\"\"\n",
    "        Calculate the optimal portfolio weights (x).\n",
    "        Returns:\n",
    "            np.array: Optimized portfolio weights.\n",
    "        \"\"\"\n",
    "        n = len(self.assets)\n",
    "        e = np.ones(n)\n",
    "        X = cp.Variable(n)\n",
    "        obj = cp.Minimize(self.q * cp.quad_form(X, self.sigma) -  self.r @ X)\n",
    "        constraints = [e @ X == 1, X >= 0]\n",
    "        problem = cp.Problem(obj, constraints)\n",
    "        result = problem.solve()\n",
    "        return X.value\n",
    "    \n",
    "    def calculate_optimal_with_transaction_costs(self, x_init, f_buy, f_sell):\n",
    "        \"\"\"\n",
    "        Calculate the optimal portfolio weights with transaction costs.\n",
    "        Args:\n",
    "            x_init (np.array): Initial portfolio weights.\n",
    "            f_buy (float): Buying transaction cost.\n",
    "            f_sell (float): Selling transaction cost.\n",
    "        Returns:\n",
    "            tuple: Optimized portfolio weights, buy adjustments, sell adjustments.\n",
    "        \"\"\"\n",
    "        e = np.ones(self.n)\n",
    "        u_buy = cp.Variable(self.n)\n",
    "        u_sell = cp.Variable(self.n)\n",
    "        x = x_init + u_buy - u_sell\n",
    "\n",
    "        objective = cp.Minimize(self.q * cp.quad_form(x, self.sigma) - self.r @ x)\n",
    "        constraints = [\n",
    "            x == x_init + u_buy - u_sell,\n",
    "            x >= 0,\n",
    "            u_buy >= 0,\n",
    "            u_sell >= 0,\n",
    "            (1 - f_sell) * e @ u_sell == (1 + f_buy) * e @ u_buy,\n",
    "            e @ x == 1\n",
    "        ]\n",
    "\n",
    "        problem = cp.Problem(objective, constraints)\n",
    "        result = problem.solve()\n",
    "\n",
    "        return x.value, u_buy.value, u_sell.value\n"
   ]
  },
  {
   "cell_type": "markdown",
   "metadata": {},
   "source": [
    "## Model with Transaction Costs"
   ]
  },
  {
   "cell_type": "markdown",
   "metadata": {},
   "source": [
    "\\begin{align}\n",
    "    \\min_{\\mathbf{x}, \\mathbf{u}_{\\text{buy}}, \\mathbf{u}_{\\text{sell}}} & \\quad q\\cdot \\mathbf{x}^T \\Sigma \\mathbf{x} + \\mathbf{r}^T \\mathbf{x}\\\\\n",
    "    \\text{subject to:} & \\\\\n",
    "    & \\mathbf{x} = \\mathbf{x}_{\\text{init}} + \\mathbf{u}_{\\text{buy}} - \\mathbf{u}_{\\text{sell}} \\\\\n",
    "    & \\mathbf{u}_{\\text{buy}} \\ge 0, \\quad \\mathbf{u}_{\\text{sell}} \\ge 0 \\\\\n",
    "    & (1 - f_{\\text{sell}}) \\mathbf{1}^T \\mathbf{u}_{\\text{sell}} = (1 + f_{\\text{buy}}) \\mathbf{1}^T \\mathbf{u}_{\\text{buy}} \\\\\n",
    "    & \\mathbf{1}^T \\mathbf{x} = 1\n",
    "\\end{align}"
   ]
  },
  {
   "cell_type": "markdown",
   "metadata": {},
   "source": [
    "Methods already written before."
   ]
  },
  {
   "cell_type": "markdown",
   "metadata": {},
   "source": [
    "### Analysis"
   ]
  },
  {
   "cell_type": "code",
   "execution_count": 52,
   "metadata": {},
   "outputs": [
    {
     "name": "stdout",
     "output_type": "stream",
     "text": [
      "Optimal x with no transaction costs: [ 3.97509128e-02  1.30858217e-01  8.78200792e-03  1.48602471e-02\n",
      "  2.89185879e-01  2.49738614e-01  1.54389357e-01  1.12434764e-01\n",
      " -1.95593158e-23  8.52331381e-23]\n",
      "Initial x: [0.1 0.1 0.1 0.1 0.1 0.1 0.1 0.1 0.1 0.1]\n",
      "Optimal x with transaction costs: [0.09999931 0.1        0.1        0.1        0.10000068 0.1\n",
      " 0.1        0.1        0.1        0.1       ]\n",
      "\n"
     ]
    }
   ],
   "source": [
    "assets = [\"TSLA\", \"NVDA\", \"AAPL\", \"JPM\", \"JNJ\", \"KO\", \"DUK\", \"T\", \"GE\", \"PFE\"]  \n",
    "portfolio = Portfolio(assets,\"10y\",10)\n",
    "opt_x = portfolio.calculate_optimal_x()\n",
    "x_init = np.full(10, 0.1)\n",
    "opt_x_trans, *_ = portfolio.calculate_optimal_with_transaction_costs(x_init,0.01,0.01)\n",
    "print(f\"Optimal x with no transaction costs: {opt_x}\\n\"\n",
    "      f\"Initial x: {x_init}\\n\"\n",
    "      f\"Optimal x with transaction costs: {opt_x_trans}\\n\")"
   ]
  },
  {
   "cell_type": "markdown",
   "metadata": {},
   "source": [
    "## Model allowing short positions"
   ]
  },
  {
   "cell_type": "markdown",
   "metadata": {},
   "source": [
    "\\begin{align*}\n",
    "    \\text{Minimize} \\quad & q\\cdot \\mathbf{x}^T \\Sigma \\mathbf{x} + \\mathbf{r}^T\\mathbf{x} \\\\\n",
    "    \\text{subject to} \\quad \\\\\n",
    "    & \\mathbf{x} = \\mathbf{x}_{\\text{long}} - \\mathbf{x}_{\\text{short}}, \\\\\n",
    "    & \\mathbf{x}_{\\text{long}} \\succeq 0, \\quad \\mathbf{x}_{\\text{short}} \\succeq 0, \\\\\n",
    "    & \\mathbf{1}^T \\mathbf{x}_{\\text{short}} \\leq \\eta \\mathbf{1}^T \\mathbf{x}_{\\text{long}}, \\\\\n",
    "    & \\mathbf{1}^T \\mathbf{x} = 1\n",
    "\\end{align*}"
   ]
  },
  {
   "cell_type": "code",
   "execution_count": 53,
   "metadata": {},
   "outputs": [],
   "source": [
    "class PortfolioWithShort(Portfolio):\n",
    "    def calculate_optimal_with_short(self, eta=0.5):\n",
    "        \"\"\"\n",
    "        Calculate the optimal portfolio weights allowing short positions.\n",
    "        Args:\n",
    "            eta (float): Maximum ratio of short positions to long positions (default is 0.5).\n",
    "        Returns:\n",
    "            tuple: Optimized portfolio weights, long positions, short positions.\n",
    "        \"\"\"\n",
    "        x_long = cp.Variable(self.n)\n",
    "        x_short = cp.Variable(self.n)\n",
    "        x = x_long - x_short\n",
    "\n",
    "        objective = cp.Minimize(self.q * cp.quad_form(x, self.sigma) - self.r @ x)\n",
    "        constraints = [\n",
    "            x_long >= 0,\n",
    "            x_short >= 0,\n",
    "            cp.sum(x) <= 1\n",
    "        ]\n",
    "\n",
    "\n",
    "        problem = cp.Problem(objective, constraints)\n",
    "        result = problem.solve()\n",
    "\n",
    "        return x.value, x_long.value, x_short.value"
   ]
  },
  {
   "cell_type": "code",
   "execution_count": 54,
   "metadata": {},
   "outputs": [
    {
     "name": "stdout",
     "output_type": "stream",
     "text": [
      "Optimal x with no transaction costs: [ 3.97509128e-02  1.30858217e-01  8.78200792e-03  1.48602471e-02\n",
      "  2.89185879e-01  2.49738614e-01  1.54389357e-01  1.12434764e-01\n",
      " -1.95593158e-23  8.52331381e-23]\n",
      "Optimal x: [ 0.02672292  0.12140963 -0.01545156  0.05362534  0.06680539  0.03845269\n",
      "  0.06553778  0.03710455 -0.05724934 -0.08716304]\n",
      "Optimal x long position: [0.03667958 0.16726313 0.00431402 0.07298405 0.08970796 0.0543101\n",
      " 0.0899684  0.051698   0.02080097 0.02904937]\n",
      "Optimal x short position: [0.00995666 0.04585351 0.01976559 0.01935871 0.02290257 0.01585741\n",
      " 0.02443063 0.01459345 0.07805031 0.11621241]\n",
      "\n"
     ]
    }
   ],
   "source": [
    "assets = [\"TSLA\", \"NVDA\", \"AAPL\", \"JPM\", \"JNJ\", \"KO\", \"DUK\", \"T\", \"GE\", \"PFE\"]  \n",
    "port_short = PortfolioWithShort(assets,\"10y\",10)\n",
    "opt_x = portfolio.calculate_optimal_x()\n",
    "opt_x_combined, opt_x_long, opt_x_short = port_short.calculate_optimal_with_short(0.5)\n",
    "print(f\"Optimal x with no transaction costs: {opt_x}\\n\"\n",
    "      f\"Optimal x: {opt_x_combined}\\n\"\n",
    "      f\"Optimal x long position: {opt_x_long}\\n\"\n",
    "      f\"Optimal x short position: {opt_x_short}\\n\")"
   ]
  },
  {
   "cell_type": "markdown",
   "metadata": {},
   "source": [
    "## Model with Entropic Risk Measure"
   ]
  },
  {
   "cell_type": "code",
   "execution_count": 57,
   "metadata": {},
   "outputs": [],
   "source": [
    "class PortfolioWithEntropicRisk(Portfolio):\n",
    "    def calculate_optimal_with_entropicrisk(self):\n",
    "        \"\"\"\n",
    "        Solve the entropic-risk minimization problem:\n",
    "        \n",
    "            minimize  (1/q)*log( (1/T)*∑ exp( -q * port_returns[t] ) )\n",
    "            \n",
    "        subject to:\n",
    "            sum(weights) = 1\n",
    "            weights >= 0\n",
    "        \n",
    "        Returns:\n",
    "            np.ndarray: optimal weights (n, )\n",
    "        \"\"\"\n",
    "        T, n = self.returns.shape\n",
    "        \n",
    "        x = cp.Variable(n, nonneg=True)\n",
    "        \n",
    "        port_ret = self.returns @ x\n",
    "        \n",
    "        mean_exp = cp.sum(cp.exp(-self.q * port_ret)) / T\n",
    "        \n",
    "\n",
    "        entropic_expr = (1.0 / self.q) * (cp.log_sum_exp(-self.q * port_ret) - np.log(T))\n",
    "        \n",
    "        objective = cp.Minimize(entropic_expr)\n",
    "        \n",
    "        constraints = [cp.sum(x) == 1]\n",
    "        \n",
    "        # Solve\n",
    "        problem = cp.Problem(objective, constraints)\n",
    "        result = problem.solve()\n",
    "        \n",
    "        if x.value is None:\n",
    "            raise ValueError(\"No solution found.\")\n",
    "        \n",
    "        return x.value"
   ]
  },
  {
   "cell_type": "code",
   "execution_count": 58,
   "metadata": {},
   "outputs": [
    {
     "name": "stdout",
     "output_type": "stream",
     "text": [
      "Optimal x: [1.38741118e-08 2.10075595e-01 3.40862440e-08 2.50166202e-07\n",
      " 6.46440194e-08 1.50928844e-07 1.47424830e-07 3.17979776e-01\n",
      " 4.71943956e-01 1.15592084e-08]\n",
      "\n"
     ]
    }
   ],
   "source": [
    "assets = [\"TSLA\", \"NVDA\", \"AAPL\", \"JPM\", \"JNJ\", \"KO\", \"DUK\", \"T\", \"GE\", \"PFE\"]  \n",
    "port_entropic = PortfolioWithEntropicRisk(assets,\"3y\",5)\n",
    "opt_x = port_entropic.calculate_optimal_with_entropicrisk()\n",
    "print(f\"Optimal x: {opt_x}\\n\")"
   ]
  }
 ],
 "metadata": {
  "kernelspec": {
   "display_name": "Python 3 (ipykernel)",
   "language": "python",
   "name": "python3"
  },
  "language_info": {
   "codemirror_mode": {
    "name": "ipython",
    "version": 3
   },
   "file_extension": ".py",
   "mimetype": "text/x-python",
   "name": "python",
   "nbconvert_exporter": "python",
   "pygments_lexer": "ipython3",
   "version": "3.12.8"
  }
 },
 "nbformat": 4,
 "nbformat_minor": 4
}
