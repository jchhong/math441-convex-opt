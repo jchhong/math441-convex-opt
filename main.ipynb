{
 "cells": [
  {
   "cell_type": "markdown",
   "metadata": {},
   "source": [
    "# Portfolio Optimization"
   ]
  },
  {
   "cell_type": "code",
   "execution_count": 2,
   "metadata": {},
   "outputs": [],
   "source": [
    "import numpy as np\n",
    "import matplotlib.pyplot as plt\n",
    "import yfinance as yf\n",
    "import pandas as pd\n",
    "import cvxpy as cp"
   ]
  },
  {
   "cell_type": "code",
   "execution_count": 4,
   "metadata": {},
   "outputs": [],
   "source": [
    "R = []\n",
    "assets = [\"MSFT\",\"AAPL\",\"BEP\"]\n",
    "for stock in assets:\n",
    "    data = yf.Ticker(stock)\n",
    "    df = data.history(period=\"10y\")\n",
    "    close = df['Close'].values\n",
    "    returns = (close[1:] - close[:-1])/close[:-1]\n",
    "    R.append(returns)\n",
    "\n",
    "R = np.array(R).T\n",
    "r = np.mean(R,axis=0)\n",
    "S = np.cov(R.T)"
   ]
  },
  {
   "cell_type": "code",
   "execution_count": 5,
   "metadata": {},
   "outputs": [
    {
     "data": {
      "text/plain": [
       "array([0.44462007, 0.25554628, 0.29983365])"
      ]
     },
     "execution_count": 5,
     "metadata": {},
     "output_type": "execute_result"
    }
   ],
   "source": [
    "n = len(assets)\n",
    "q = 0.1\n",
    "e = np.ones(n)\n",
    "X = cp.Variable(n)\n",
    "obj = cp.Minimize(cp.quad_form(X,S) - q*r@X)\n",
    "constraints = [e@X == 1, X >= 0]\n",
    "problem = cp.Problem(obj,constraints)\n",
    "result = problem.solve()\n",
    "X.value"
   ]
  },
  {
   "cell_type": "markdown",
   "metadata": {},
   "source": [
    "## Model with Transaction Costs"
   ]
  },
  {
   "cell_type": "markdown",
   "metadata": {},
   "source": [
    "\\begin{align*}\n",
    "    \\min_{\\mathbf{x}, \\mathbf{u}_{\\text{buy}}, \\mathbf{u}_{\\text{sell}}} & \\quad q\\cdot \\mathbf{x}^T \\Sigma \\mathbf{x} + \\mathbf{r}^T \\mathbf{x}\\\\\n",
    "    \\text{subject to:} & \\\\\n",
    "    & \\mathbf{x} = \\mathbf{x}_{\\text{init}} + \\mathbf{u}_{\\text{buy}} - \\mathbf{u}_{\\text{sell}} \\\\\n",
    "    & \\mathbf{u}_{\\text{buy}} \\ge 0, \\quad \\mathbf{u}_{\\text{sell}} \\ge 0 \\\\\n",
    "    & (1 - f_{\\text{sell}}) \\mathbf{1}^T \\mathbf{u}_{\\text{sell}} = (1 + f_{\\text{buy}}) \\mathbf{1}^T \\mathbf{u}_{\\text{buy}} \\\\\n",
    "    & \\mathbf{1}^T \\mathbf{x} = 1\n",
    "\\end{align*}"
   ]
  },
  {
   "cell_type": "code",
   "execution_count": 13,
   "metadata": {},
   "outputs": [],
   "source": [
    "def optimize_with_transaction_costs(x_init, f_buy, f_sell, q, S, r, n):\n",
    "    \"\"\"\n",
    "    Optimize portfolio weights with transaction costs.\n",
    "    Args:\n",
    "        x_init (np.array): Initial portfolio weights.\n",
    "        f_buy (float): Buying transaction cost.\n",
    "        f_sell (float): Selling transaction cost.\n",
    "        q (float): Risk aversion parameter.\n",
    "        S (np.array): Covariance matrix of returns.\n",
    "        r (np.array): Expected returns.\n",
    "        n (int): Number of assets.\n",
    "    Returns:\n",
    "        tuple: Optimized portfolio weights, buy adjustments, sell adjustments.\n",
    "    \"\"\"\n",
    "    e = np.ones(n)\n",
    "    u_buy = cp.Variable(n)\n",
    "    u_sell = cp.Variable(n)\n",
    "    x = x_init + u_buy - u_sell\n",
    "\n",
    "    objective = cp.Minimize(q * cp.quad_form(x, S) - r @ x)\n",
    "    constraints = [\n",
    "        x == x_init + u_buy - u_sell,\n",
    "        x >= 0,\n",
    "        u_buy >= 0,\n",
    "        u_sell >= 0,\n",
    "        (1 - f_sell) * e @ u_sell == (1 + f_buy) * e @ u_buy,\n",
    "        e @ x == 1\n",
    "    ]\n",
    "\n",
    "    problem = cp.Problem(objective, constraints)\n",
    "    result = problem.solve()\n",
    "\n",
    "    return x.value, u_buy.value, u_sell.value"
   ]
  },
  {
   "cell_type": "code",
   "execution_count": null,
   "metadata": {},
   "outputs": [
    {
     "name": "stdout",
     "output_type": "stream",
     "text": [
      "[ 8.67190298e-01  1.32811091e-01 -6.13873002e-06]\n"
     ]
    }
   ],
   "source": [
    "x_init = np.array([0.4, 0.3, 0.3])\n",
    "f_buy = 0.00000\n",
    "f_sell = 0.00001\n",
    "q = 1\n",
    "optimized_x, optimized_u_buy, optimized_u_sell = optimize_with_transaction_costs(x_init, f_buy, f_sell, q, S, r, n)\n",
    "print(optimized_x)"
   ]
  },
  {
   "cell_type": "code",
   "execution_count": null,
   "metadata": {},
   "outputs": [],
   "source": []
  }
 ],
 "metadata": {
  "kernelspec": {
   "display_name": "base",
   "language": "python",
   "name": "python3"
  },
  "language_info": {
   "codemirror_mode": {
    "name": "ipython",
    "version": 3
   },
   "file_extension": ".py",
   "mimetype": "text/x-python",
   "name": "python",
   "nbconvert_exporter": "python",
   "pygments_lexer": "ipython3",
   "version": "3.10.9"
  }
 },
 "nbformat": 4,
 "nbformat_minor": 2
}
