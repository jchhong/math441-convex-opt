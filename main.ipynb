{
 "cells": [
  {
   "cell_type": "markdown",
   "metadata": {},
   "source": [
    "# Portfolio Optimization"
   ]
  },
  {
   "cell_type": "code",
   "execution_count": 7,
   "metadata": {},
   "outputs": [
    {
     "name": "stdout",
     "output_type": "stream",
     "text": [
      "Requirement already satisfied: yfinance in /opt/conda/lib/python3.12/site-packages (0.2.55)\n",
      "Requirement already satisfied: pandas>=1.3.0 in /opt/conda/lib/python3.12/site-packages (from yfinance) (2.2.3)\n",
      "Requirement already satisfied: numpy>=1.16.5 in /opt/conda/lib/python3.12/site-packages (from yfinance) (1.26.4)\n",
      "Requirement already satisfied: requests>=2.31 in /opt/conda/lib/python3.12/site-packages (from yfinance) (2.32.3)\n",
      "Requirement already satisfied: multitasking>=0.0.7 in /opt/conda/lib/python3.12/site-packages (from yfinance) (0.0.11)\n",
      "Requirement already satisfied: platformdirs>=2.0.0 in /opt/conda/lib/python3.12/site-packages (from yfinance) (4.3.6)\n",
      "Requirement already satisfied: pytz>=2022.5 in /opt/conda/lib/python3.12/site-packages (from yfinance) (2024.1)\n",
      "Requirement already satisfied: frozendict>=2.3.4 in /opt/conda/lib/python3.12/site-packages (from yfinance) (2.4.6)\n",
      "Requirement already satisfied: peewee>=3.16.2 in /opt/conda/lib/python3.12/site-packages (from yfinance) (3.17.9)\n",
      "Requirement already satisfied: beautifulsoup4>=4.11.1 in /opt/conda/lib/python3.12/site-packages (from yfinance) (4.12.3)\n",
      "Requirement already satisfied: soupsieve>1.2 in /opt/conda/lib/python3.12/site-packages (from beautifulsoup4>=4.11.1->yfinance) (2.5)\n",
      "Requirement already satisfied: python-dateutil>=2.8.2 in /opt/conda/lib/python3.12/site-packages (from pandas>=1.3.0->yfinance) (2.9.0.post0)\n",
      "Requirement already satisfied: tzdata>=2022.7 in /opt/conda/lib/python3.12/site-packages (from pandas>=1.3.0->yfinance) (2024.2)\n",
      "Requirement already satisfied: charset_normalizer<4,>=2 in /opt/conda/lib/python3.12/site-packages (from requests>=2.31->yfinance) (3.4.0)\n",
      "Requirement already satisfied: idna<4,>=2.5 in /opt/conda/lib/python3.12/site-packages (from requests>=2.31->yfinance) (3.10)\n",
      "Requirement already satisfied: urllib3<3,>=1.21.1 in /opt/conda/lib/python3.12/site-packages (from requests>=2.31->yfinance) (2.2.3)\n",
      "Requirement already satisfied: certifi>=2017.4.17 in /opt/conda/lib/python3.12/site-packages (from requests>=2.31->yfinance) (2024.8.30)\n",
      "Requirement already satisfied: six>=1.5 in /opt/conda/lib/python3.12/site-packages (from python-dateutil>=2.8.2->pandas>=1.3.0->yfinance) (1.17.0)\n",
      "Collecting cvxpy\n",
      "  Downloading cvxpy-1.6.4-cp312-cp312-manylinux_2_17_x86_64.manylinux2014_x86_64.whl.metadata (9.3 kB)\n",
      "Collecting osqp>=0.6.2 (from cvxpy)\n",
      "  Downloading osqp-1.0.3-cp312-cp312-manylinux_2_17_x86_64.manylinux2014_x86_64.whl.metadata (2.1 kB)\n",
      "Collecting clarabel>=0.5.0 (from cvxpy)\n",
      "  Using cached clarabel-0.10.0-cp39-abi3-manylinux_2_17_x86_64.manylinux2014_x86_64.whl.metadata (4.8 kB)\n",
      "Collecting scs>=3.2.4.post1 (from cvxpy)\n",
      "  Using cached scs-3.2.7.post2-cp312-cp312-manylinux_2_17_x86_64.manylinux2014_x86_64.whl.metadata (2.1 kB)\n",
      "Requirement already satisfied: numpy>=1.21.6 in /opt/conda/lib/python3.12/site-packages (from cvxpy) (1.26.4)\n",
      "Requirement already satisfied: scipy>=1.11.0 in /opt/conda/lib/python3.12/site-packages (from cvxpy) (1.14.1)\n",
      "Requirement already satisfied: jinja2 in /opt/conda/lib/python3.12/site-packages (from osqp>=0.6.2->cvxpy) (3.1.4)\n",
      "Requirement already satisfied: setuptools in /opt/conda/lib/python3.12/site-packages (from osqp>=0.6.2->cvxpy) (75.6.0)\n",
      "Requirement already satisfied: joblib in /opt/conda/lib/python3.12/site-packages (from osqp>=0.6.2->cvxpy) (1.4.2)\n",
      "Requirement already satisfied: MarkupSafe>=2.0 in /opt/conda/lib/python3.12/site-packages (from jinja2->osqp>=0.6.2->cvxpy) (3.0.2)\n",
      "Downloading cvxpy-1.6.4-cp312-cp312-manylinux_2_17_x86_64.manylinux2014_x86_64.whl (1.2 MB)\n",
      "\u001b[2K   \u001b[90m━━━━━━━━━━━━━━━━━━━━━━━━━━━━━━━━━━━━━━━━\u001b[0m \u001b[32m1.2/1.2 MB\u001b[0m \u001b[31m54.0 MB/s\u001b[0m eta \u001b[36m0:00:00\u001b[0m\n",
      "Using cached clarabel-0.10.0-cp39-abi3-manylinux_2_17_x86_64.manylinux2014_x86_64.whl (1.0 MB)\n",
      "Downloading osqp-1.0.3-cp312-cp312-manylinux_2_17_x86_64.manylinux2014_x86_64.whl (343 kB)\n",
      "Using cached scs-3.2.7.post2-cp312-cp312-manylinux_2_17_x86_64.manylinux2014_x86_64.whl (10.4 MB)\n",
      "Installing collected packages: scs, osqp, clarabel, cvxpy\n",
      "Successfully installed clarabel-0.10.0 cvxpy-1.6.4 osqp-1.0.3 scs-3.2.7.post2\n"
     ]
    }
   ],
   "source": [
    "!pip install yfinance\n",
    "!pip install cvxpy"
   ]
  },
  {
   "cell_type": "code",
   "execution_count": 2,
   "metadata": {},
   "outputs": [],
   "source": [
    "import numpy as np\n",
    "import matplotlib.pyplot as plt\n",
    "import yfinance as yf\n",
    "import pandas as pd\n",
    "import cvxpy as cp"
   ]
  },
  {
   "cell_type": "markdown",
   "metadata": {},
   "source": [
    "## Class definition"
   ]
  },
  {
   "cell_type": "code",
   "execution_count": 1,
   "metadata": {},
   "outputs": [],
   "source": [
    "class Portfolio:\n",
    "    def __init__(self, tickers, start_date, end_date, q=10):\n",
    "        \"\"\"\n",
    "        Initialize the Portfolio class.\n",
    "        \n",
    "        tickers: List of asset tickers. Note that yfinance downloads tickers in alphabetical order.\n",
    "        start_date: string like '2025-01-01'.\n",
    "        end_date: string like '2025-02-01'.\n",
    "        q: Risk aversion parameter (default is 10).\n",
    "        \"\"\"\n",
    "        self.tickers = sorted(tickers) # !yfinance download tickers alphabetically\n",
    "        self.start_date = start_date\n",
    "        self.end_date = end_date\n",
    "        self.q = q\n",
    "        self.n = len(tickers)\n",
    "        self.data = None\n",
    "        self.returns = None\n",
    "        self.r = None\n",
    "        self.sigma = None\n",
    "        self.fetch_data()\n",
    "    \n",
    "    def get_tickers(self):\n",
    "        \"\"\"Return the tickers.\"\"\"\n",
    "        return self.tickers\n",
    "\n",
    "    def fetch_data(self):\n",
    "        \"\"\"Fetch historical price data, calculate returns, r and sigma.\"\"\"\n",
    "        self.data = yf.download(self.tickers, start=self.start_date, end=self.end_date)\n",
    "        self.data = self.data['Close']\n",
    "        self.returns = self.data.pct_change().dropna()\n",
    "        self.r = self.returns.mean(axis=0).values\n",
    "        self.sigma = self.returns.cov().values\n",
    "\n",
    "    def calculate_optimal_x(self):\n",
    "        \"\"\"\n",
    "        Calculate the optimal portfolio weights x (original way).\n",
    "        \"\"\"\n",
    "        e = np.ones(self.n)\n",
    "        x = cp.Variable(self.n)\n",
    "        obj = cp.Minimize(self.q * cp.quad_form(x, self.sigma) -  self.r @ x)\n",
    "        constraints = [e @ x == 1, x >= 0]\n",
    "        problem = cp.Problem(obj, constraints)\n",
    "        problem.solve()\n",
    "        return x.value\n",
    "    \n",
    "    def calculate_optimal_with_transaction_costs(self, x_init, f_buy, f_sell):\n",
    "        \"\"\"\n",
    "        Calculate the optimal portfolio weights with transaction costs.\n",
    "        \n",
    "        x_init: Initial portfolio weights.\n",
    "        f_buy: Buying transaction cost.\n",
    "        f_sell: Selling transaction cost.\n",
    "        \"\"\"\n",
    "        e = np.ones(self.n)\n",
    "        u_buy = cp.Variable(self.n)\n",
    "        u_sell = cp.Variable(self.n)\n",
    "        x = x_init + u_buy - u_sell\n",
    "\n",
    "        objective = cp.Minimize(self.q * cp.quad_form(x, self.sigma) - self.r @ x)\n",
    "        constraints = [\n",
    "            x == x_init + u_buy - u_sell,\n",
    "            x >= 0,\n",
    "            u_buy >= 0,\n",
    "            u_sell >= 0,\n",
    "            (1 - f_sell) * e @ u_sell == (1 + f_buy) * e @ u_buy,\n",
    "            e @ x == 1\n",
    "        ]\n",
    "\n",
    "        problem = cp.Problem(objective, constraints)\n",
    "        problem.solve()\n",
    "\n",
    "        return x.value, u_buy.value, u_sell.value\n"
   ]
  },
  {
   "cell_type": "markdown",
   "metadata": {},
   "source": [
    "## Model with Transaction Costs"
   ]
  },
  {
   "cell_type": "markdown",
   "metadata": {},
   "source": [
    "\\begin{align*}\n",
    "    \\min_{\\mathbf{x}, \\mathbf{u}_{\\text{buy}}, \\mathbf{u}_{\\text{sell}}} & \\quad q\\cdot \\mathbf{x}^T \\Sigma \\mathbf{x} + \\mathbf{r}^T \\mathbf{x}\\\\\n",
    "    \\text{subject to:} & \\\\\n",
    "    & \\mathbf{x} = \\mathbf{x}_{\\text{init}} + \\mathbf{u}_{\\text{buy}} - \\mathbf{u}_{\\text{sell}} \\\\\n",
    "    & \\mathbf{u}_{\\text{buy}} \\ge 0, \\quad \\mathbf{u}_{\\text{sell}} \\ge 0 \\\\\n",
    "    & (1 - f_{\\text{sell}}) \\mathbf{1}^T \\mathbf{u}_{\\text{sell}} = (1 + f_{\\text{buy}}) \\mathbf{1}^T \\mathbf{u}_{\\text{buy}} \\\\\n",
    "    & \\mathbf{1}^T \\mathbf{x} = 1\n",
    "\\end{align*}"
   ]
  },
  {
   "cell_type": "markdown",
   "metadata": {},
   "source": [
    "Methods already written above."
   ]
  },
  {
   "cell_type": "markdown",
   "metadata": {},
   "source": [
    "### Analysis"
   ]
  },
  {
   "cell_type": "code",
   "execution_count": 6,
   "metadata": {},
   "outputs": [
    {
     "name": "stderr",
     "output_type": "stream",
     "text": [
      "[*********************100%***********************]  10 of 10 completed\n",
      "/Users/jinchenghong/anaconda3/lib/python3.10/site-packages/cvxpy/problems/problem.py:1481: UserWarning: Solution may be inaccurate. Try another solver, adjusting the solver settings, or solve with verbose=True for more information.\n",
      "  warnings.warn(\n"
     ]
    },
    {
     "data": {
      "text/html": [
       "<div>\n",
       "<style scoped>\n",
       "    .dataframe tbody tr th:only-of-type {\n",
       "        vertical-align: middle;\n",
       "    }\n",
       "\n",
       "    .dataframe tbody tr th {\n",
       "        vertical-align: top;\n",
       "    }\n",
       "\n",
       "    .dataframe thead th {\n",
       "        text-align: right;\n",
       "    }\n",
       "</style>\n",
       "<table border=\"1\" class=\"dataframe\">\n",
       "  <thead>\n",
       "    <tr style=\"text-align: right;\">\n",
       "      <th></th>\n",
       "      <th>AAPL</th>\n",
       "      <th>DUK</th>\n",
       "      <th>GE</th>\n",
       "      <th>JNJ</th>\n",
       "      <th>JPM</th>\n",
       "      <th>KO</th>\n",
       "      <th>NVDA</th>\n",
       "      <th>PFE</th>\n",
       "      <th>T</th>\n",
       "      <th>TSLA</th>\n",
       "    </tr>\n",
       "  </thead>\n",
       "  <tbody>\n",
       "    <tr>\n",
       "      <th>Ordinary Portfolio</th>\n",
       "      <td>0.049</td>\n",
       "      <td>0.143</td>\n",
       "      <td>-0.0</td>\n",
       "      <td>0.258</td>\n",
       "      <td>0.021</td>\n",
       "      <td>0.226</td>\n",
       "      <td>0.129</td>\n",
       "      <td>0.031</td>\n",
       "      <td>0.102</td>\n",
       "      <td>0.041</td>\n",
       "    </tr>\n",
       "    <tr>\n",
       "      <th>Initial Portfolio</th>\n",
       "      <td>0.100</td>\n",
       "      <td>0.100</td>\n",
       "      <td>0.1</td>\n",
       "      <td>0.100</td>\n",
       "      <td>0.100</td>\n",
       "      <td>0.100</td>\n",
       "      <td>0.100</td>\n",
       "      <td>0.100</td>\n",
       "      <td>0.100</td>\n",
       "      <td>0.100</td>\n",
       "    </tr>\n",
       "    <tr>\n",
       "      <th>Transaction-Constrained Portfolio</th>\n",
       "      <td>0.100</td>\n",
       "      <td>0.126</td>\n",
       "      <td>0.0</td>\n",
       "      <td>0.174</td>\n",
       "      <td>0.097</td>\n",
       "      <td>0.155</td>\n",
       "      <td>0.100</td>\n",
       "      <td>0.100</td>\n",
       "      <td>0.100</td>\n",
       "      <td>0.048</td>\n",
       "    </tr>\n",
       "  </tbody>\n",
       "</table>\n",
       "</div>"
      ],
      "text/plain": [
       "                                    AAPL    DUK   GE    JNJ    JPM     KO  \\\n",
       "Ordinary Portfolio                 0.049  0.143 -0.0  0.258  0.021  0.226   \n",
       "Initial Portfolio                  0.100  0.100  0.1  0.100  0.100  0.100   \n",
       "Transaction-Constrained Portfolio  0.100  0.126  0.0  0.174  0.097  0.155   \n",
       "\n",
       "                                    NVDA    PFE      T   TSLA  \n",
       "Ordinary Portfolio                 0.129  0.031  0.102  0.041  \n",
       "Initial Portfolio                  0.100  0.100  0.100  0.100  \n",
       "Transaction-Constrained Portfolio  0.100  0.100  0.100  0.048  "
      ]
     },
     "execution_count": 6,
     "metadata": {},
     "output_type": "execute_result"
    }
   ],
   "source": [
    "tickers = [\"TSLA\", \"NVDA\", \"AAPL\", \"JPM\", \"JNJ\", \"KO\", \"DUK\", \"T\", \"GE\", \"PFE\"]  \n",
    "portfolio = Portfolio(tickers,\"2014-12-31\",\"2024-12-31\",10)\n",
    "opt_x = portfolio.calculate_optimal_x()\n",
    "x_init = np.full(10, 0.1)\n",
    "opt_x_trans, *_ = portfolio.calculate_optimal_with_transaction_costs(x_init,0.0001,0.0001)\n",
    "\n",
    "result_df = pd.DataFrame(\n",
    "    [opt_x, x_init, opt_x_trans],\n",
    "    columns=portfolio.get_tickers(),\n",
    "    index=[\"Ordinary Portfolio\", \"Initial Portfolio\", \"Transaction-Constrained Portfolio\"]\n",
    ").round(3)\n",
    "\n",
    "result_df"
   ]
  },
  {
   "cell_type": "code",
   "execution_count": 7,
   "metadata": {},
   "outputs": [
    {
     "ename": "NameError",
     "evalue": "name 'risks_no_costs' is not defined",
     "output_type": "error",
     "traceback": [
      "\u001b[0;31m---------------------------------------------------------------------------\u001b[0m",
      "\u001b[0;31mNameError\u001b[0m                                 Traceback (most recent call last)",
      "Cell \u001b[0;32mIn[7], line 2\u001b[0m\n\u001b[1;32m      1\u001b[0m plt\u001b[38;5;241m.\u001b[39mfigure(figsize\u001b[38;5;241m=\u001b[39m(\u001b[38;5;241m10\u001b[39m, \u001b[38;5;241m6\u001b[39m))\n\u001b[0;32m----> 2\u001b[0m plt\u001b[38;5;241m.\u001b[39mplot(\u001b[43mrisks_no_costs\u001b[49m, returns_no_costs, \u001b[38;5;124m'\u001b[39m\u001b[38;5;124mo-\u001b[39m\u001b[38;5;124m'\u001b[39m, label\u001b[38;5;241m=\u001b[39m\u001b[38;5;124m'\u001b[39m\u001b[38;5;124mWithout Transaction Costs\u001b[39m\u001b[38;5;124m'\u001b[39m)\n\u001b[1;32m      3\u001b[0m plt\u001b[38;5;241m.\u001b[39mplot(risks_with_costs, returns_with_costs, \u001b[38;5;124m'\u001b[39m\u001b[38;5;124ms-\u001b[39m\u001b[38;5;124m'\u001b[39m, label\u001b[38;5;241m=\u001b[39m\u001b[38;5;124m'\u001b[39m\u001b[38;5;124mWith Transaction Costs\u001b[39m\u001b[38;5;124m'\u001b[39m)\n\u001b[1;32m      5\u001b[0m plt\u001b[38;5;241m.\u001b[39mxlabel(\u001b[38;5;124m'\u001b[39m\u001b[38;5;124mPortfolio Risk (Standard Deviation)\u001b[39m\u001b[38;5;124m'\u001b[39m)\n",
      "\u001b[0;31mNameError\u001b[0m: name 'risks_no_costs' is not defined"
     ]
    },
    {
     "data": {
      "text/plain": [
       "<Figure size 1000x600 with 0 Axes>"
      ]
     },
     "metadata": {},
     "output_type": "display_data"
    }
   ],
   "source": [
    "plt.figure(figsize=(10, 6))\n",
    "plt.plot(risks_no_costs, returns_no_costs, 'o-', label='Without Transaction Costs')\n",
    "plt.plot(risks_with_costs, returns_with_costs, 's-', label='With Transaction Costs')\n",
    "\n",
    "plt.xlabel('Portfolio Risk (Standard Deviation)')\n",
    "plt.ylabel('Portfolio Expected Return')\n",
    "plt.title('Efficient Frontier with and without Transaction Costs')\n",
    "plt.legend()\n",
    "plt.grid(True)\n",
    "plt.show()\n"
   ]
  },
  {
   "cell_type": "code",
   "execution_count": null,
   "metadata": {},
   "outputs": [],
   "source": []
  },
  {
   "cell_type": "markdown",
   "metadata": {},
   "source": [
    "## Model allowing short positions"
   ]
  },
  {
   "cell_type": "markdown",
   "metadata": {},
   "source": [
    "\\begin{align*}\n",
    "    \\text{Minimize} \\quad & q\\cdot \\mathbf{x}^T \\Sigma \\mathbf{x} + \\mathbf{r}^T\\mathbf{x} \\\\\n",
    "    \\text{subject to} \\quad \\\\\n",
    "    & \\mathbf{x} = \\mathbf{x}_{\\text{long}} - \\mathbf{x}_{\\text{short}}, \\\\\n",
    "    & \\mathbf{x}_{\\text{long}} \\succeq 0, \\quad \\mathbf{x}_{\\text{short}} \\succeq 0, \\\\\n",
    "    & \\mathbf{1}^T \\mathbf{x}_{\\text{short}} \\leq \\eta \\mathbf{1}^T \\mathbf{x}_{\\text{long}}, \\\\\n",
    "    & \\mathbf{1}^T \\mathbf{x} = 1\n",
    "\\end{align*}"
   ]
  },
  {
   "cell_type": "code",
   "execution_count": 8,
   "metadata": {},
   "outputs": [],
   "source": [
    "class PortfolioWithShort(Portfolio):\n",
    "    def calculate_optimal_with_short(self, eta=0.5):\n",
    "        \"\"\"\n",
    "        Calculate the optimal portfolio weights allowing short positions.\n",
    "        \n",
    "        eta: Maximum ratio of short positions to long positions (default is 0.5).\n",
    "        \"\"\"\n",
    "        x_long = cp.Variable(self.n)\n",
    "        x_short = cp.Variable(self.n)\n",
    "        x = x_long - x_short\n",
    "\n",
    "        objective = cp.Minimize(self.q * cp.quad_form(x, self.sigma) - self.r @ x)\n",
    "        constraints = [\n",
    "            x_long >= 0,\n",
    "            x_short >= 0,\n",
    "            cp.sum(x_short) <= eta*cp.sum(x_long),\n",
    "            cp.sum(x) == 1\n",
    "        ]\n",
    "\n",
    "        problem = cp.Problem(objective, constraints)\n",
    "        problem.solve()\n",
    "\n",
    "        return x.value, x_long.value, x_short.value"
   ]
  },
  {
   "cell_type": "code",
   "execution_count": 11,
   "metadata": {},
   "outputs": [
    {
     "name": "stderr",
     "output_type": "stream",
     "text": [
      "[*********************100%***********************]  10 of 10 completed\n"
     ]
    },
    {
     "data": {
      "text/html": [
       "<div>\n",
       "<style scoped>\n",
       "    .dataframe tbody tr th:only-of-type {\n",
       "        vertical-align: middle;\n",
       "    }\n",
       "\n",
       "    .dataframe tbody tr th {\n",
       "        vertical-align: top;\n",
       "    }\n",
       "\n",
       "    .dataframe thead th {\n",
       "        text-align: right;\n",
       "    }\n",
       "</style>\n",
       "<table border=\"1\" class=\"dataframe\">\n",
       "  <thead>\n",
       "    <tr style=\"text-align: right;\">\n",
       "      <th></th>\n",
       "      <th>AAPL</th>\n",
       "      <th>DUK</th>\n",
       "      <th>GE</th>\n",
       "      <th>JNJ</th>\n",
       "      <th>JPM</th>\n",
       "      <th>KO</th>\n",
       "      <th>NVDA</th>\n",
       "      <th>PFE</th>\n",
       "      <th>T</th>\n",
       "      <th>TSLA</th>\n",
       "    </tr>\n",
       "  </thead>\n",
       "  <tbody>\n",
       "    <tr>\n",
       "      <th>Ordinary Portfolio</th>\n",
       "      <td>0.049</td>\n",
       "      <td>0.143</td>\n",
       "      <td>-0.000</td>\n",
       "      <td>0.258</td>\n",
       "      <td>0.021</td>\n",
       "      <td>0.226</td>\n",
       "      <td>0.129</td>\n",
       "      <td>0.031</td>\n",
       "      <td>0.102</td>\n",
       "      <td>0.041</td>\n",
       "    </tr>\n",
       "    <tr>\n",
       "      <th>Combined Portfolio</th>\n",
       "      <td>0.051</td>\n",
       "      <td>0.146</td>\n",
       "      <td>-0.051</td>\n",
       "      <td>0.255</td>\n",
       "      <td>0.047</td>\n",
       "      <td>0.234</td>\n",
       "      <td>0.133</td>\n",
       "      <td>0.031</td>\n",
       "      <td>0.112</td>\n",
       "      <td>0.042</td>\n",
       "    </tr>\n",
       "    <tr>\n",
       "      <th>Long Position</th>\n",
       "      <td>0.088</td>\n",
       "      <td>0.163</td>\n",
       "      <td>0.033</td>\n",
       "      <td>0.342</td>\n",
       "      <td>0.067</td>\n",
       "      <td>0.301</td>\n",
       "      <td>0.188</td>\n",
       "      <td>0.070</td>\n",
       "      <td>0.130</td>\n",
       "      <td>0.077</td>\n",
       "    </tr>\n",
       "    <tr>\n",
       "      <th>Short Position</th>\n",
       "      <td>0.037</td>\n",
       "      <td>0.017</td>\n",
       "      <td>0.084</td>\n",
       "      <td>0.087</td>\n",
       "      <td>0.019</td>\n",
       "      <td>0.067</td>\n",
       "      <td>0.055</td>\n",
       "      <td>0.039</td>\n",
       "      <td>0.019</td>\n",
       "      <td>0.035</td>\n",
       "    </tr>\n",
       "  </tbody>\n",
       "</table>\n",
       "</div>"
      ],
      "text/plain": [
       "                     AAPL    DUK     GE    JNJ    JPM     KO   NVDA    PFE  \\\n",
       "Ordinary Portfolio  0.049  0.143 -0.000  0.258  0.021  0.226  0.129  0.031   \n",
       "Combined Portfolio  0.051  0.146 -0.051  0.255  0.047  0.234  0.133  0.031   \n",
       "Long Position       0.088  0.163  0.033  0.342  0.067  0.301  0.188  0.070   \n",
       "Short Position      0.037  0.017  0.084  0.087  0.019  0.067  0.055  0.039   \n",
       "\n",
       "                        T   TSLA  \n",
       "Ordinary Portfolio  0.102  0.041  \n",
       "Combined Portfolio  0.112  0.042  \n",
       "Long Position       0.130  0.077  \n",
       "Short Position      0.019  0.035  "
      ]
     },
     "execution_count": 11,
     "metadata": {},
     "output_type": "execute_result"
    }
   ],
   "source": [
    "tickers = [\"TSLA\", \"NVDA\", \"AAPL\", \"JPM\", \"JNJ\", \"KO\", \"DUK\", \"T\", \"GE\", \"PFE\"]  \n",
    "port_short = PortfolioWithShort(tickers,\"2014-12-31\",\"2024-12-31\",10)\n",
    "opt_x = port_short.calculate_optimal_x()\n",
    "opt_x_combined, opt_x_long, opt_x_short = port_short.calculate_optimal_with_short(0.5)\n",
    "\n",
    "result_df = pd.DataFrame(\n",
    "    [opt_x, opt_x_combined, opt_x_long, opt_x_short],\n",
    "    columns=portfolio.get_tickers(),\n",
    "    index=[\"Ordinary Portfolio\", \"Combined Portfolio\", \"Long Position\", \"Short Position\"]\n",
    ").round(3)\n",
    "\n",
    "result_df"
   ]
  },
  {
   "cell_type": "code",
   "execution_count": 24,
   "metadata": {},
   "outputs": [
    {
     "data": {
      "image/png": "[encoded data removed]",
      "text/plain": [
       "<Figure size 1000x600 with 1 Axes>"
      ]
     },
     "metadata": {},
     "output_type": "display_data"
    }
   ],
   "source": [
    "plt.figure(figsize=(10, 6))\n",
    "\n",
    "\n",
    "plt.plot(risks_no_short, returns_no_short, 'o-', color='blue', label='Without Short Selling')\n",
    "\n",
    "plt.plot(risks_with_short, returns_with_short, 's-', color='red', label='With Controlled Short Selling (eta=0.5)')\n",
    "\n",
    "plt.title('Efficient Frontier with and without Short Selling')\n",
    "plt.xlabel('Portfolio Risk (Standard Deviation)')\n",
    "plt.ylabel('Portfolio Expected Return')\n",
    "plt.legend()\n",
    "plt.grid(True)\n",
    "plt.show()"
   ]
  },
  {
   "cell_type": "markdown",
   "metadata": {},
   "source": [
    "## Model with Entropic Risk Measure"
   ]
  },
  {
   "cell_type": "code",
   "execution_count": 41,
   "metadata": {},
   "outputs": [],
   "source": [
    "class PortfolioWithEntropicRisk(Portfolio):\n",
    "    def calculate_optimal_with_entropicrisk(self):\n",
    "        \"\"\"\n",
    "        Solve the entropic-risk minimization problem:\n",
    "            minimize  (1/q)*log( (1/T)*∑ exp( -q * port_returns[t] ) )\n",
    "            subject to:\n",
    "                sum(weights) = 1\n",
    "                weights >= 0\n",
    "        \"\"\"\n",
    "        T, n = self.returns.shape\n",
    "        \n",
    "        x = cp.Variable(n, nonneg=True)\n",
    "\n",
    "        port_ret = self.returns.values @ x\n",
    "\n",
    "        entropic_expr = (1.0 / self.q) * (cp.log_sum_exp(-self.q * port_ret) - np.log(T))\n",
    "        \n",
    "        objective = cp.Minimize(entropic_expr)\n",
    "        constraints = [cp.sum(x) == 1]\n",
    "        \n",
    "        problem = cp.Problem(objective, constraints)\n",
    "        problem.solve()\n",
    " \n",
    "        return x.value"
   ]
  },
  {
   "cell_type": "code",
   "execution_count": 42,
   "metadata": {},
   "outputs": [
    {
     "name": "stderr",
     "output_type": "stream",
     "text": [
      "[*********************100%***********************]  10 of 10 completed\n"
     ]
    },
    {
     "data": {
      "text/html": [
       "<div>\n",
       "<style scoped>\n",
       "    .dataframe tbody tr th:only-of-type {\n",
       "        vertical-align: middle;\n",
       "    }\n",
       "\n",
       "    .dataframe tbody tr th {\n",
       "        vertical-align: top;\n",
       "    }\n",
       "\n",
       "    .dataframe thead th {\n",
       "        text-align: right;\n",
       "    }\n",
       "</style>\n",
       "<table border=\"1\" class=\"dataframe\">\n",
       "  <thead>\n",
       "    <tr style=\"text-align: right;\">\n",
       "      <th></th>\n",
       "      <th>AAPL</th>\n",
       "      <th>DUK</th>\n",
       "      <th>GE</th>\n",
       "      <th>JNJ</th>\n",
       "      <th>JPM</th>\n",
       "      <th>KO</th>\n",
       "      <th>NVDA</th>\n",
       "      <th>PFE</th>\n",
       "      <th>T</th>\n",
       "      <th>TSLA</th>\n",
       "    </tr>\n",
       "  </thead>\n",
       "  <tbody>\n",
       "    <tr>\n",
       "      <th>Ordinary Portfolio</th>\n",
       "      <td>0.049</td>\n",
       "      <td>0.143</td>\n",
       "      <td>-0.0</td>\n",
       "      <td>0.258</td>\n",
       "      <td>0.021</td>\n",
       "      <td>0.226</td>\n",
       "      <td>0.129</td>\n",
       "      <td>0.031</td>\n",
       "      <td>0.102</td>\n",
       "      <td>0.041</td>\n",
       "    </tr>\n",
       "    <tr>\n",
       "      <th>Entropic Risk Portfolio</th>\n",
       "      <td>0.047</td>\n",
       "      <td>0.166</td>\n",
       "      <td>0.0</td>\n",
       "      <td>0.223</td>\n",
       "      <td>0.044</td>\n",
       "      <td>0.134</td>\n",
       "      <td>0.253</td>\n",
       "      <td>0.000</td>\n",
       "      <td>0.076</td>\n",
       "      <td>0.057</td>\n",
       "    </tr>\n",
       "  </tbody>\n",
       "</table>\n",
       "</div>"
      ],
      "text/plain": [
       "                          AAPL    DUK   GE    JNJ    JPM     KO   NVDA    PFE  \\\n",
       "Ordinary Portfolio       0.049  0.143 -0.0  0.258  0.021  0.226  0.129  0.031   \n",
       "Entropic Risk Portfolio  0.047  0.166  0.0  0.223  0.044  0.134  0.253  0.000   \n",
       "\n",
       "                             T   TSLA  \n",
       "Ordinary Portfolio       0.102  0.041  \n",
       "Entropic Risk Portfolio  0.076  0.057  "
      ]
     },
     "execution_count": 42,
     "metadata": {},
     "output_type": "execute_result"
    }
   ],
   "source": [
    "tickers = [\"TSLA\", \"NVDA\", \"AAPL\", \"JPM\", \"JNJ\", \"KO\", \"DUK\", \"T\", \"GE\", \"PFE\"]  \n",
    "port_entropic = PortfolioWithEntropicRisk(tickers,\"2014-12-31\",\"2024-12-31\",10)\n",
    "opt_x = port_entropic.calculate_optimal_x()\n",
    "opt_x_entropic = port_entropic.calculate_optimal_with_entropicrisk()\n",
    "\n",
    "result_df = pd.DataFrame(\n",
    "    [opt_x, opt_x_entropic],\n",
    "    columns=portfolio.get_tickers(),\n",
    "    index=[\"Ordinary Portfolio\", \"Entropic Risk Portfolio\"]\n",
    ").round(3)\n",
    "\n",
    "result_df"
   ]
  },
  {
   "cell_type": "code",
   "execution_count": 43,
   "metadata": {},
   "outputs": [
    {
     "data": {
      "image/png": "[encoded data removed]",
      "text/plain": [
       "<Figure size 1000x600 with 1 Axes>"
      ]
     },
     "metadata": {},
     "output_type": "display_data"
    }
   ],
   "source": [
    "return_markowitz = opt_x @ portfolio.r\n",
    "risk_markowitz = np.sqrt(opt_x.T @ portfolio.sigma @ opt_x)\n",
    "\n",
    "return_entropic = opt_x_entropic @ port_entropic.r\n",
    "risk_entropic = np.sqrt(opt_x_entropic.T @ port_entropic.sigma @ opt_x_entropic)\n",
    "\n",
    "\n",
    "plt.figure(figsize=(10, 6))\n",
    "\n",
    "plt.plot(risk_markowitz, return_markowitz, 'o-', label='Markowitz Portfolio', color='blue')\n",
    "plt.plot(risk_entropic, return_entropic, 's-', label='Entropic Risk Portfolio', color='green')\n",
    "\n",
    "plt.title('Efficient Frontier: Markowitz vs. Entropic Risk Portfolio')\n",
    "plt.xlabel('Portfolio Risk (Standard Deviation)')\n",
    "plt.ylabel('Portfolio Expected Return')\n",
    "plt.legend()\n",
    "plt.grid(True)\n",
    "plt.show()\n"
   ]
  },
  {
   "cell_type": "markdown",
   "metadata": {},
   "source": [
    "## Portfolio with Drawdown constraints"
   ]
  },
  {
   "cell_type": "markdown",
   "metadata": {},
   "source": [
    "Objective Function:\n",
    "\n",
    "$$\\min_\\mathbf{x} -\\mathbf{r}^T \\mathbf{x}\n",
    "$$\n",
    "\n",
    "Subject to:\n",
    "* $\\mathbf{1}^T \\mathbf{x} = 1$\n",
    "* $\\mathbf{x} \\ge 0$\n",
    "* $$\\max_{s\\le t} \\{\\mathbf{x}^T\\mathbf{R}_s\\} - \\mathbf{x}^T\\mathbf{R}_t \\le \\alpha, \\quad \\forall \\, t \\in [0,T]$$\n",
    "where \n",
    "$$\\mathbf{R}_t = \\frac{\\mathbf{p}_t-\\mathbf{p}_0}{\\mathbf{p}_0}$$"
   ]
  },
  {
   "cell_type": "code",
   "execution_count": 44,
   "metadata": {},
   "outputs": [],
   "source": [
    "class DrawdownPortfolio(Portfolio):\n",
    "    def __init__(self, tickers, start_date, end_date, q=10, alpha=0.05):\n",
    "        \"\"\"\n",
    "        Initialize the DrawdownPortfolio class.\n",
    "\n",
    "        tickers: List of asset tickers.\n",
    "        start_date: string like '2025-01-01'.\n",
    "        end_date: string like '2025-02-01'.\n",
    "        q: Risk aversion parameter (default is 10).\n",
    "        alpha: Drawdown limit (default is 0.05).\n",
    "        \"\"\"\n",
    "        super().__init__(tickers, start_date, end_date, q)\n",
    "        self.alpha = alpha\n",
    "\n",
    "    def calculate_optimal_with_drawdown(self):\n",
    "        \"\"\"\n",
    "        Calculate the optimal portfolio weights with drawdown constraints.\n",
    "        \"\"\"\n",
    "        x = cp.Variable(self.n)\n",
    "        e = np.ones(self.n)\n",
    "\n",
    "        # Compute cumulative returns.\n",
    "        p_t = self.data.values   # Prices matrix (rows: time, columns: tickers)\n",
    "        p_0 = p_t[0, :]          # p_0\n",
    "        cum_returns = (p_t - p_0) / p_0  # (time, tickers)\n",
    "        portfolio_cum_returns = cum_returns @ x # (time, 1)\n",
    "\n",
    "        # Objective: Maximize return (or minimize negative return)\n",
    "        objective = cp.Minimize(self.q * cp.quad_form(x, self.sigma) -  self.r @ x)\n",
    "\n",
    "        # Constraints\n",
    "        constraints = [\n",
    "            e @ x == 1,  # Weights sum to 1\n",
    "            x >= 0       # No short selling\n",
    "        ]\n",
    "\n",
    "        # Drawdown constraint\n",
    "        for t in range(len(cum_returns)):\n",
    "            constraints.append(\n",
    "                cp.max(portfolio_cum_returns[:t + 1]) - portfolio_cum_returns[t] <= self.alpha\n",
    "            )\n",
    "\n",
    "        problem = cp.Problem(objective, constraints)\n",
    "        problem.solve()\n",
    "\n",
    "        return x.value\n"
   ]
  },
  {
   "cell_type": "code",
   "execution_count": 45,
   "metadata": {},
   "outputs": [
    {
     "name": "stderr",
     "output_type": "stream",
     "text": [
      "[*********************100%***********************]  6 of 6 completed\n",
      "/Users/jinchenghong/anaconda3/lib/python3.10/site-packages/cvxpy/problems/problem.py:1481: UserWarning: Solution may be inaccurate. Try another solver, adjusting the solver settings, or solve with verbose=True for more information.\n",
      "  warnings.warn(\n"
     ]
    },
    {
     "data": {
      "text/html": [
       "<div>\n",
       "<style scoped>\n",
       "    .dataframe tbody tr th:only-of-type {\n",
       "        vertical-align: middle;\n",
       "    }\n",
       "\n",
       "    .dataframe tbody tr th {\n",
       "        vertical-align: top;\n",
       "    }\n",
       "\n",
       "    .dataframe thead th {\n",
       "        text-align: right;\n",
       "    }\n",
       "</style>\n",
       "<table border=\"1\" class=\"dataframe\">\n",
       "  <thead>\n",
       "    <tr style=\"text-align: right;\">\n",
       "      <th></th>\n",
       "      <th>AAPL</th>\n",
       "      <th>GOOGL</th>\n",
       "      <th>MSFT</th>\n",
       "      <th>JNJ</th>\n",
       "      <th>PFE</th>\n",
       "      <th>NFLX</th>\n",
       "    </tr>\n",
       "  </thead>\n",
       "  <tbody>\n",
       "    <tr>\n",
       "      <th>Ordinary Portfolio</th>\n",
       "      <td>-0.0</td>\n",
       "      <td>0.548</td>\n",
       "      <td>0.000</td>\n",
       "      <td>0.0</td>\n",
       "      <td>0.069</td>\n",
       "      <td>0.383</td>\n",
       "    </tr>\n",
       "    <tr>\n",
       "      <th>Drawdown-Constrained Portfolio</th>\n",
       "      <td>-0.0</td>\n",
       "      <td>0.413</td>\n",
       "      <td>0.145</td>\n",
       "      <td>-0.0</td>\n",
       "      <td>0.076</td>\n",
       "      <td>0.367</td>\n",
       "    </tr>\n",
       "  </tbody>\n",
       "</table>\n",
       "</div>"
      ],
      "text/plain": [
       "                                AAPL  GOOGL   MSFT  JNJ    PFE   NFLX\n",
       "Ordinary Portfolio              -0.0  0.548  0.000  0.0  0.069  0.383\n",
       "Drawdown-Constrained Portfolio  -0.0  0.413  0.145 -0.0  0.076  0.367"
      ]
     },
     "execution_count": 45,
     "metadata": {},
     "output_type": "execute_result"
    }
   ],
   "source": [
    "tickers = ['AAPL', 'GOOGL', 'MSFT', 'JNJ', 'PFE', 'NFLX']\n",
    "start_date = '2024-12-01'\n",
    "end_date = '2025-02-01'\n",
    "\n",
    "drawdown_portfolio = DrawdownPortfolio(tickers, start_date, end_date, q=10, alpha=0.03)\n",
    "\n",
    "drawdown_optimal_weights = drawdown_portfolio.calculate_optimal_with_drawdown()\n",
    "optimal_weights = drawdown_portfolio.calculate_optimal_x()\n",
    "\n",
    "result_df = pd.DataFrame(\n",
    "    [optimal_weights, drawdown_optimal_weights],\n",
    "    columns=tickers,\n",
    "    index=[\"Ordinary Portfolio\", \"Drawdown-Constrained Portfolio\"]\n",
    ").round(3)\n",
    "\n",
    "result_df"
   ]
  },
  {
   "cell_type": "code",
   "execution_count": 46,
   "metadata": {},
   "outputs": [
    {
     "name": "stderr",
     "output_type": "stream",
     "text": [
      "[*********************100%***********************]  6 of 6 completed\n"
     ]
    },
    {
     "data": {
      "text/html": [
       "<div>\n",
       "<style scoped>\n",
       "    .dataframe tbody tr th:only-of-type {\n",
       "        vertical-align: middle;\n",
       "    }\n",
       "\n",
       "    .dataframe tbody tr th {\n",
       "        vertical-align: top;\n",
       "    }\n",
       "\n",
       "    .dataframe thead th {\n",
       "        text-align: right;\n",
       "    }\n",
       "</style>\n",
       "<table border=\"1\" class=\"dataframe\">\n",
       "  <thead>\n",
       "    <tr style=\"text-align: right;\">\n",
       "      <th></th>\n",
       "      <th>AAPL</th>\n",
       "      <th>GOOGL</th>\n",
       "      <th>MSFT</th>\n",
       "      <th>JNJ</th>\n",
       "      <th>PFE</th>\n",
       "      <th>NFLX</th>\n",
       "    </tr>\n",
       "  </thead>\n",
       "  <tbody>\n",
       "    <tr>\n",
       "      <th>Ordinary Portfolio</th>\n",
       "      <td>0.0</td>\n",
       "      <td>0.809</td>\n",
       "      <td>0.000</td>\n",
       "      <td>0.0</td>\n",
       "      <td>-0.000</td>\n",
       "      <td>0.191</td>\n",
       "    </tr>\n",
       "    <tr>\n",
       "      <th>Drawdown-Constrained Portfolio</th>\n",
       "      <td>-0.0</td>\n",
       "      <td>0.407</td>\n",
       "      <td>0.143</td>\n",
       "      <td>-0.0</td>\n",
       "      <td>0.077</td>\n",
       "      <td>0.373</td>\n",
       "    </tr>\n",
       "  </tbody>\n",
       "</table>\n",
       "</div>"
      ],
      "text/plain": [
       "                                AAPL  GOOGL   MSFT  JNJ    PFE   NFLX\n",
       "Ordinary Portfolio               0.0  0.809  0.000  0.0 -0.000  0.191\n",
       "Drawdown-Constrained Portfolio  -0.0  0.407  0.143 -0.0  0.077  0.373"
      ]
     },
     "execution_count": 46,
     "metadata": {},
     "output_type": "execute_result"
    }
   ],
   "source": [
    "tickers = ['AAPL', 'GOOGL', 'MSFT', 'JNJ', 'PFE', 'NFLX']\n",
    "start_date = '2024-12-01'\n",
    "end_date = '2025-02-01'\n",
    "\n",
    "drawdown_portfolio = DrawdownPortfolio(tickers, start_date, end_date, q=5, alpha=0.03)\n",
    "\n",
    "drawdown_optimal_weights = drawdown_portfolio.calculate_optimal_with_drawdown()\n",
    "optimal_weights = drawdown_portfolio.calculate_optimal_x()\n",
    "\n",
    "result_df = pd.DataFrame(\n",
    "    [optimal_weights, drawdown_optimal_weights],\n",
    "    columns=tickers,\n",
    "    index=[\"Ordinary Portfolio\", \"Drawdown-Constrained Portfolio\"]\n",
    ").round(3)\n",
    "\n",
    "result_df"
   ]
  },
  {
   "cell_type": "code",
   "execution_count": null,
   "metadata": {},
   "outputs": [],
   "source": []
  }
 ],
 "metadata": {
  "kernelspec": {
   "display_name": "base",
   "language": "python",
   "name": "python3"
  },
  "language_info": {
   "codemirror_mode": {
    "name": "ipython",
    "version": 3
   },
   "file_extension": ".py",
   "mimetype": "text/x-python",
   "name": "python",
   "nbconvert_exporter": "python",
   "pygments_lexer": "ipython3",
   "version": "3.10.9"
  }
 },
 "nbformat": 4,
 "nbformat_minor": 4
}
